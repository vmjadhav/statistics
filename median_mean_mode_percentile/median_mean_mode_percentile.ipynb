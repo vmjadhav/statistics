{
"cells": [
{
"cell_type": "code",
"execution_count": 19,
"id": "8531d073",
"metadata": {},
"outputs": [],
"source": [
"import pandas as pd\n",
"import numpy as np\n",
"df = pd.read_csv(\"income.csv\")"
]
},
{
"cell_type": "code",
"execution_count": 20,
"id": "0df4584b",
"metadata": {},
"outputs": [
{
"data": {
"text/html": [
"<div>\n",
"<style scoped>\n",
"    .dataframe tbody tr th:only-of-type {\n",
"        vertical-align: middle;\n",
"    }\n",
"\n",
"    .dataframe tbody tr th {\n",
"        vertical-align: top;\n",
"    }\n",
"\n",
"    .dataframe thead th {\n",
"        text-align: right;\n",
"    }\n",
"</style>\n",
"<table border=\"1\" class=\"dataframe\">\n",
"  <thead>\n",
"    <tr style=\"text-align: right;\">\n",
"      <th></th>\n",
"      <th>Name</th>\n",
"      <th>income</th>\n",
"    </tr>\n",
"  </thead>\n",
"  <tbody>\n",
"    <tr>\n",
"      <th>0</th>\n",
"      <td>Rob</td>\n",
"      <td>5000</td>\n",
"    </tr>\n",
"    <tr>\n",
"      <th>1</th>\n",
"      <td>Rafiq</td>\n",
"      <td>6000</td>\n",
"    </tr>\n",
"    <tr>\n",
"      <th>2</th>\n",
"      <td>Nina</td>\n",
"      <td>4000</td>\n",
"    </tr>\n",
"    <tr>\n",
"      <th>3</th>\n",
"      <td>Sofia</td>\n",
"      <td>7500</td>\n",
"    </tr>\n",
"    <tr>\n",
"      <th>4</th>\n",
"      <td>Mohan</td>\n",
"      <td>8000</td>\n",
"    </tr>\n",
"    <tr>\n",
"      <th>5</th>\n",
"      <td>Tao</td>\n",
"      <td>7000</td>\n",
"    </tr>\n",
"    <tr>\n",
"      <th>6</th>\n",
"      <td>Elon Musk</td>\n",
"      <td>10000000</td>\n",
"    </tr>\n",
"  </tbody>\n",
"</table>\n",
"</div>"
],
"text/plain": [
"        Name    income\n",
"0        Rob      5000\n",
"1      Rafiq      6000\n",
"2       Nina      4000\n",
"3      Sofia      7500\n",
"4      Mohan      8000\n",
"5        Tao      7000\n",
"6  Elon Musk  10000000"
]
},
"execution_count": 20,
"metadata": {},
"output_type": "execute_result"
}
],
"source": [
"df"
]
},
{
"cell_type": "code",
"execution_count": 21,
"id": "9fc930a4",
"metadata": {},
"outputs": [
{
"data": {
"text/html": [
"<div>\n",
"<style scoped>\n",
"    .dataframe tbody tr th:only-of-type {\n",
"        vertical-align: middle;\n",
"    }\n",
"\n",
"    .dataframe tbody tr th {\n",
"        vertical-align: top;\n",
"    }\n",
"\n",
"    .dataframe thead th {\n",
"        text-align: right;\n",
"    }\n",
"</style>\n",
"<table border=\"1\" class=\"dataframe\">\n",
"  <thead>\n",
"    <tr style=\"text-align: right;\">\n",
"      <th></th>\n",
"      <th>income</th>\n",
"    </tr>\n",
"  </thead>\n",
"  <tbody>\n",
"    <tr>\n",
"      <th>count</th>\n",
"      <td>7.000000e+00</td>\n",
"    </tr>\n",
"    <tr>\n",
"      <th>mean</th>\n",
"      <td>1.433929e+06</td>\n",
"    </tr>\n",
"    <tr>\n",
"      <th>std</th>\n",
"      <td>3.777283e+06</td>\n",
"    </tr>\n",
"    <tr>\n",
"      <th>min</th>\n",
"      <td>4.000000e+03</td>\n",
"    </tr>\n",
"    <tr>\n",
"      <th>25%</th>\n",
"      <td>5.500000e+03</td>\n",
"    </tr>\n",
"    <tr>\n",
"      <th>50%</th>\n",
"      <td>7.000000e+03</td>\n",
"    </tr>\n",
"    <tr>\n",
"      <th>75%</th>\n",
"      <td>7.750000e+03</td>\n",
"    </tr>\n",
"    <tr>\n",
"      <th>max</th>\n",
"      <td>1.000000e+07</td>\n",
"    </tr>\n",
"  </tbody>\n",
"</table>\n",
"</div>"
],
"text/plain": [
"             income\n",
"count  7.000000e+00\n",
"mean   1.433929e+06\n",
"std    3.777283e+06\n",
"min    4.000000e+03\n",
"25%    5.500000e+03\n",
"50%    7.000000e+03\n",
"75%    7.750000e+03\n",
"max    1.000000e+07"
]
},
"execution_count": 21,
"metadata": {},
"output_type": "execute_result"
}
],
"source": [
"df.describe()"
]
},
{
"cell_type": "code",
"execution_count": 27,
"id": "da516805",
"metadata": {},
"outputs": [
{
"data": {
"text/plain": [
"2        4000\n",
"0        5000\n",
"1        6000\n",
"5        7000\n",
"3        7500\n",
"4        8000\n",
"6    10000000\n",
"Name: income, dtype: int64"
]
},
"execution_count": 27,
"metadata": {},
"output_type": "execute_result"
}
],
"source": [
"df.income.sort_values()"
]
},
{
"cell_type": "code",
"execution_count": 38,
"id": "8b64bffc",
"metadata": {},
"outputs": [
{
"data": {
"text/plain": [
"5500.0"
]
},
"execution_count": 38,
"metadata": {},
"output_type": "execute_result"
}
],
"source": [
"df.income.quantile(0.25, interpolation = \"linear\")"
]
},
{
"cell_type": "code",
"execution_count": 39,
"id": "d49b1bd2",
"metadata": {},
"outputs": [
{
"data": {
"text/plain": [
"10000000.0"
]
},
"execution_count": 39,
"metadata": {},
"output_type": "execute_result"
}
],
"source": [
"df.income.quantile(1, interpolation = \"linear\")"
]
},
{
"cell_type": "code",
"execution_count": 40,
"id": "a3465a8d",
"metadata": {},
"outputs": [],
"source": [
"percentile_99 = df.income.quantile(0.99)"
]
},
{
"cell_type": "code",
"execution_count": 41,
"id": "1bea96b0",
"metadata": {},
"outputs": [
{
"data": {
"text/plain": [
"9400479.999999994"
]
},
"execution_count": 41,
"metadata": {},
"output_type": "execute_result"
}
],
"source": [
"percentile_99"
]
},
{
"cell_type": "code",
"execution_count": 42,
"id": "4f83c40c",
"metadata": {},
"outputs": [
{
"data": {
"text/html": [
"<div>\n",
"<style scoped>\n",
"    .dataframe tbody tr th:only-of-type {\n",
"        vertical-align: middle;\n",
"    }\n",
"\n",
"    .dataframe tbody tr th {\n",
"        vertical-align: top;\n",
"    }\n",
"\n",
"    .dataframe thead th {\n",
"        text-align: right;\n",
"    }\n",
"</style>\n",
"<table border=\"1\" class=\"dataframe\">\n",
"  <thead>\n",
"    <tr style=\"text-align: right;\">\n",
"      <th></th>\n",
"      <th>Name</th>\n",
"      <th>income</th>\n",
"    </tr>\n",
"  </thead>\n",
"  <tbody>\n",
"    <tr>\n",
"      <th>6</th>\n",
"      <td>Elon Musk</td>\n",
"      <td>10000000</td>\n",
"    </tr>\n",
"  </tbody>\n",
"</table>\n",
"</div>"
],
"text/plain": [
"        Name    income\n",
"6  Elon Musk  10000000"
]
},
"execution_count": 42,
"metadata": {},
"output_type": "execute_result"
}
],
"source": [
"df[df.income>percentile_99]"
]
},
{
"cell_type": "code",
"execution_count": 45,
"id": "b0e125ca",
"metadata": {},
"outputs": [],
"source": [
"df_no_outlier = df[df.income<percentile_99]"
]
},
{
"cell_type": "code",
"execution_count": 46,
"id": "459e9456",
"metadata": {},
"outputs": [
{
"data": {
"text/html": [
"<div>\n",
"<style scoped>\n",
"    .dataframe tbody tr th:only-of-type {\n",
"        vertical-align: middle;\n",
"    }\n",
"\n",
"    .dataframe tbody tr th {\n",
"        vertical-align: top;\n",
"    }\n",
"\n",
"    .dataframe thead th {\n",
"        text-align: right;\n",
"    }\n",
"</style>\n",
"<table border=\"1\" class=\"dataframe\">\n",
"  <thead>\n",
"    <tr style=\"text-align: right;\">\n",
"      <th></th>\n",
"      <th>Name</th>\n",
"      <th>income</th>\n",
"    </tr>\n",
"  </thead>\n",
"  <tbody>\n",
"    <tr>\n",
"      <th>0</th>\n",
"      <td>Rob</td>\n",
"      <td>5000</td>\n",
"    </tr>\n",
"    <tr>\n",
"      <th>1</th>\n",
"      <td>Rafiq</td>\n",
"      <td>6000</td>\n",
"    </tr>\n",
"    <tr>\n",
"      <th>2</th>\n",
"      <td>Nina</td>\n",
"      <td>4000</td>\n",
"    </tr>\n",
"    <tr>\n",
"      <th>3</th>\n",
"      <td>Sofia</td>\n",
"      <td>7500</td>\n",
"    </tr>\n",
"    <tr>\n",
"      <th>4</th>\n",
"      <td>Mohan</td>\n",
"      <td>8000</td>\n",
"    </tr>\n",
"    <tr>\n",
"      <th>5</th>\n",
"      <td>Tao</td>\n",
"      <td>7000</td>\n",
"    </tr>\n",
"  </tbody>\n",
"</table>\n",
"</div>"
],
"text/plain": [
"    Name  income\n",
"0    Rob    5000\n",
"1  Rafiq    6000\n",
"2   Nina    4000\n",
"3  Sofia    7500\n",
"4  Mohan    8000\n",
"5    Tao    7000"
]
},
"execution_count": 46,
"metadata": {},
"output_type": "execute_result"
}
],
"source": [
"df_no_outlier"
]
},
{
"cell_type": "code",
"execution_count": 47,
"id": "7e720e33",
"metadata": {},
"outputs": [
{
"name": "stderr",
"output_type": "stream",
"text": [
"C:\\Users\\DELL\\AppData\\Local\\Programs\\Python\\Python37\\lib\\site-packages\\ipykernel_launcher.py:1: SettingWithCopyWarning: \n",
"A value is trying to be set on a copy of a slice from a DataFrame\n",
"\n",
"See the caveats in the documentation: https://pandas.pydata.org/pandas-docs/stable/user_guide/indexing.html#returning-a-view-versus-a-copy\n",
"  \"\"\"Entry point for launching an IPython kernel.\n",
"C:\\Users\\DELL\\AppData\\Local\\Programs\\Python\\Python37\\lib\\site-packages\\pandas\\core\\indexing.py:1732: SettingWithCopyWarning: \n",
"A value is trying to be set on a copy of a slice from a DataFrame\n",
"\n",
"See the caveats in the documentation: https://pandas.pydata.org/pandas-docs/stable/user_guide/indexing.html#returning-a-view-versus-a-copy\n",
"  self._setitem_single_block(indexer, value, name)\n"
]
}
],
"source": [
"df['income'][3] = np.NaN"
]
},
{
"cell_type": "code",
"execution_count": 48,
"id": "6caf5417",
"metadata": {},
"outputs": [
{
"data": {
"text/html": [
"<div>\n",
"<style scoped>\n",
"    .dataframe tbody tr th:only-of-type {\n",
"        vertical-align: middle;\n",
"    }\n",
"\n",
"    .dataframe tbody tr th {\n",
"        vertical-align: top;\n",
"    }\n",
"\n",
"    .dataframe thead th {\n",
"        text-align: right;\n",
"    }\n",
"</style>\n",
"<table border=\"1\" class=\"dataframe\">\n",
"  <thead>\n",
"    <tr style=\"text-align: right;\">\n",
"      <th></th>\n",
"      <th>Name</th>\n",
"      <th>income</th>\n",
"    </tr>\n",
"  </thead>\n",
"  <tbody>\n",
"    <tr>\n",
"      <th>0</th>\n",
"      <td>Rob</td>\n",
"      <td>5000.0</td>\n",
"    </tr>\n",
"    <tr>\n",
"      <th>1</th>\n",
"      <td>Rafiq</td>\n",
"      <td>6000.0</td>\n",
"    </tr>\n",
"    <tr>\n",
"      <th>2</th>\n",
"      <td>Nina</td>\n",
"      <td>4000.0</td>\n",
"    </tr>\n",
"    <tr>\n",
"      <th>3</th>\n",
"      <td>Sofia</td>\n",
"      <td>NaN</td>\n",
"    </tr>\n",
"    <tr>\n",
"      <th>4</th>\n",
"      <td>Mohan</td>\n",
"      <td>8000.0</td>\n",
"    </tr>\n",
"    <tr>\n",
"      <th>5</th>\n",
"      <td>Tao</td>\n",
"      <td>7000.0</td>\n",
"    </tr>\n",
"    <tr>\n",
"      <th>6</th>\n",
"      <td>Elon Musk</td>\n",
"      <td>10000000.0</td>\n",
"    </tr>\n",
"  </tbody>\n",
"</table>\n",
"</div>"
],
"text/plain": [
"        Name      income\n",
"0        Rob      5000.0\n",
"1      Rafiq      6000.0\n",
"2       Nina      4000.0\n",
"3      Sofia         NaN\n",
"4      Mohan      8000.0\n",
"5        Tao      7000.0\n",
"6  Elon Musk  10000000.0"
]
},
"execution_count": 48,
"metadata": {},
"output_type": "execute_result"
}
],
"source": [
"df"
]
},
{
"cell_type": "code",
"execution_count": 49,
"id": "92d3961b",
"metadata": {},
"outputs": [
{
"data": {
"text/plain": [
"1671666.6666666667"
]
},
"execution_count": 49,
"metadata": {},
"output_type": "execute_result"
}
],
"source": [
"df.income.mean()"
]
},
{
"cell_type": "code",
"execution_count": 50,
"id": "8e80a826",
"metadata": {},
"outputs": [],
"source": [
"df_new = df.fillna(df.income.mean())"
]
},
{
"cell_type": "code",
"execution_count": 51,
"id": "953618be",
"metadata": {},
"outputs": [
{
"data": {
"text/html": [
"<div>\n",
"<style scoped>\n",
"    .dataframe tbody tr th:only-of-type {\n",
"        vertical-align: middle;\n",
"    }\n",
"\n",
"    .dataframe tbody tr th {\n",
"        vertical-align: top;\n",
"    }\n",
"\n",
"    .dataframe thead th {\n",
"        text-align: right;\n",
"    }\n",
"</style>\n",
"<table border=\"1\" class=\"dataframe\">\n",
"  <thead>\n",
"    <tr style=\"text-align: right;\">\n",
"      <th></th>\n",
"      <th>Name</th>\n",
"      <th>income</th>\n",
"    </tr>\n",
"  </thead>\n",
"  <tbody>\n",
"    <tr>\n",
"      <th>0</th>\n",
"      <td>Rob</td>\n",
"      <td>5.000000e+03</td>\n",
"    </tr>\n",
"    <tr>\n",
"      <th>1</th>\n",
"      <td>Rafiq</td>\n",
"      <td>6.000000e+03</td>\n",
"    </tr>\n",
"    <tr>\n",
"      <th>2</th>\n",
"      <td>Nina</td>\n",
"      <td>4.000000e+03</td>\n",
"    </tr>\n",
"    <tr>\n",
"      <th>3</th>\n",
"      <td>Sofia</td>\n",
"      <td>1.671667e+06</td>\n",
"    </tr>\n",
"    <tr>\n",
"      <th>4</th>\n",
"      <td>Mohan</td>\n",
"      <td>8.000000e+03</td>\n",
"    </tr>\n",
"    <tr>\n",
"      <th>5</th>\n",
"      <td>Tao</td>\n",
"      <td>7.000000e+03</td>\n",
"    </tr>\n",
"    <tr>\n",
"      <th>6</th>\n",
"      <td>Elon Musk</td>\n",
"      <td>1.000000e+07</td>\n",
"    </tr>\n",
"  </tbody>\n",
"</table>\n",
"</div>"
],
"text/plain": [
"        Name        income\n",
"0        Rob  5.000000e+03\n",
"1      Rafiq  6.000000e+03\n",
"2       Nina  4.000000e+03\n",
"3      Sofia  1.671667e+06\n",
"4      Mohan  8.000000e+03\n",
"5        Tao  7.000000e+03\n",
"6  Elon Musk  1.000000e+07"
]
},
"execution_count": 51,
"metadata": {},
"output_type": "execute_result"
}
],
"source": [
"df_new"
]
},
{
"cell_type": "code",
"execution_count": 52,
"id": "49c07877",
"metadata": {},
"outputs": [],
"source": [
"df_new = df.fillna(df.income.median())"
]
},
{
"cell_type": "code",
"execution_count": 53,
"id": "b9af044a",
"metadata": {},
"outputs": [
{
"data": {
"text/html": [
"<div>\n",
"<style scoped>\n",
"    .dataframe tbody tr th:only-of-type {\n",
"        vertical-align: middle;\n",
"    }\n",
"\n",
"    .dataframe tbody tr th {\n",
"        vertical-align: top;\n",
"    }\n",
"\n",
"    .dataframe thead th {\n",
"        text-align: right;\n",
"    }\n",
"</style>\n",
"<table border=\"1\" class=\"dataframe\">\n",
"  <thead>\n",
"    <tr style=\"text-align: right;\">\n",
"      <th></th>\n",
"      <th>Name</th>\n",
"      <th>income</th>\n",
"    </tr>\n",
"  </thead>\n",
"  <tbody>\n",
"    <tr>\n",
"      <th>0</th>\n",
"      <td>Rob</td>\n",
"      <td>5000.0</td>\n",
"    </tr>\n",
"    <tr>\n",
"      <th>1</th>\n",
"      <td>Rafiq</td>\n",
"      <td>6000.0</td>\n",
"    </tr>\n",
"    <tr>\n",
"      <th>2</th>\n",
"      <td>Nina</td>\n",
"      <td>4000.0</td>\n",
"    </tr>\n",
"    <tr>\n",
"      <th>3</th>\n",
"      <td>Sofia</td>\n",
"      <td>6500.0</td>\n",
"    </tr>\n",
"    <tr>\n",
"      <th>4</th>\n",
"      <td>Mohan</td>\n",
"      <td>8000.0</td>\n",
"    </tr>\n",
"    <tr>\n",
"      <th>5</th>\n",
"      <td>Tao</td>\n",
"      <td>7000.0</td>\n",
"    </tr>\n",
"    <tr>\n",
"      <th>6</th>\n",
"      <td>Elon Musk</td>\n",
"      <td>10000000.0</td>\n",
"    </tr>\n",
"  </tbody>\n",
"</table>\n",
"</div>"
],
"text/plain": [
"        Name      income\n",
"0        Rob      5000.0\n",
"1      Rafiq      6000.0\n",
"2       Nina      4000.0\n",
"3      Sofia      6500.0\n",
"4      Mohan      8000.0\n",
"5        Tao      7000.0\n",
"6  Elon Musk  10000000.0"
]
},
"execution_count": 53,
"metadata": {},
"output_type": "execute_result"
}
],
"source": [
"df_new"
]
},
{
"cell_type": "code",
"execution_count": null,
"id": "ecf65043",
"metadata": {},
"outputs": [],
"source": []
}
],
"metadata": {
"kernelspec": {
"display_name": "Python 3 (ipykernel)",
"language": "python",
"name": "python3"
},
"language_info": {
"codemirror_mode": {
"name": "ipython",
"version": 3
},
"file_extension": ".py",
"mimetype": "text/x-python",
"name": "python",
"nbconvert_exporter": "python",
"pygments_lexer": "ipython3",
"version": "3.7.7"
}
},
"nbformat": 4,
"nbformat_minor": 5
}
