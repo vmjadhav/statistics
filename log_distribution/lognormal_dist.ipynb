{
 "cells": [
  {
   "cell_type": "code",
   "execution_count": 1,
   "id": "16bef281",
   "metadata": {},
   "outputs": [],
   "source": [
    "import pandas as pd\n",
    "import seaborn as sn\n",
    "import numpy as np"
   ]
  },
  {
   "cell_type": "code",
   "execution_count": 2,
   "id": "444c0efb",
   "metadata": {},
   "outputs": [],
   "source": [
    "df = pd.read_csv(\"income.csv\",\n",
    "                index_col = None,\n",
    "                 names=[\"income\", \"count\"],\n",
    "                 skiprows = 1\n",
    "                )\n"
   ]
  },
  {
   "cell_type": "code",
   "execution_count": 4,
   "id": "52f58393",
   "metadata": {},
   "outputs": [
    {
     "data": {
      "text/html": [
       "<div>\n",
       "<style scoped>\n",
       "    .dataframe tbody tr th:only-of-type {\n",
       "        vertical-align: middle;\n",
       "    }\n",
       "\n",
       "    .dataframe tbody tr th {\n",
       "        vertical-align: top;\n",
       "    }\n",
       "\n",
       "    .dataframe thead th {\n",
       "        text-align: right;\n",
       "    }\n",
       "</style>\n",
       "<table border=\"1\" class=\"dataframe\">\n",
       "  <thead>\n",
       "    <tr style=\"text-align: right;\">\n",
       "      <th></th>\n",
       "      <th>income</th>\n",
       "      <th>count</th>\n",
       "    </tr>\n",
       "  </thead>\n",
       "  <tbody>\n",
       "    <tr>\n",
       "      <th>0</th>\n",
       "      <td>5000</td>\n",
       "      <td>4371</td>\n",
       "    </tr>\n",
       "    <tr>\n",
       "      <th>1</th>\n",
       "      <td>10000</td>\n",
       "      <td>3295</td>\n",
       "    </tr>\n",
       "    <tr>\n",
       "      <th>2</th>\n",
       "      <td>15000</td>\n",
       "      <td>5825</td>\n",
       "    </tr>\n",
       "    <tr>\n",
       "      <th>3</th>\n",
       "      <td>20000</td>\n",
       "      <td>6047</td>\n",
       "    </tr>\n",
       "    <tr>\n",
       "      <th>4</th>\n",
       "      <td>25000</td>\n",
       "      <td>6097</td>\n",
       "    </tr>\n",
       "  </tbody>\n",
       "</table>\n",
       "</div>"
      ],
      "text/plain": [
       "   income  count\n",
       "0    5000   4371\n",
       "1   10000   3295\n",
       "2   15000   5825\n",
       "3   20000   6047\n",
       "4   25000   6097"
      ]
     },
     "execution_count": 4,
     "metadata": {},
     "output_type": "execute_result"
    }
   ],
   "source": [
    "df.head()"
   ]
  },
  {
   "cell_type": "code",
   "execution_count": null,
   "id": "dc6d79f1",
   "metadata": {},
   "outputs": [
    {
     "data": {
      "text/plain": [
       "[Text(0, 0, '5000'),\n",
       " Text(1, 0, '10000'),\n",
       " Text(2, 0, '15000'),\n",
       " Text(3, 0, '20000'),\n",
       " Text(4, 0, '25000'),\n",
       " Text(5, 0, '30000'),\n",
       " Text(6, 0, '35000'),\n",
       " Text(7, 0, '40000'),\n",
       " Text(8, 0, '45000'),\n",
       " Text(9, 0, '50000'),\n",
       " Text(10, 0, '55000'),\n",
       " Text(11, 0, '60000'),\n",
       " Text(12, 0, '65000'),\n",
       " Text(13, 0, '70000'),\n",
       " Text(14, 0, '75000'),\n",
       " Text(15, 0, '80000'),\n",
       " Text(16, 0, '85000'),\n",
       " Text(17, 0, '90000'),\n",
       " Text(18, 0, '95000'),\n",
       " Text(19, 0, '100000'),\n",
       " Text(20, 0, '105000'),\n",
       " Text(21, 0, '110000'),\n",
       " Text(22, 0, '115000'),\n",
       " Text(23, 0, '120000'),\n",
       " Text(24, 0, '125000'),\n",
       " Text(25, 0, '130000'),\n",
       " Text(26, 0, '135000'),\n",
       " Text(27, 0, '140000'),\n",
       " Text(28, 0, '145000'),\n",
       " Text(29, 0, '150000'),\n",
       " Text(30, 0, '155000'),\n",
       " Text(31, 0, '160000'),\n",
       " Text(32, 0, '165000'),\n",
       " Text(33, 0, '170000'),\n",
       " Text(34, 0, '175000'),\n",
       " Text(35, 0, '180000'),\n",
       " Text(36, 0, '185000'),\n",
       " Text(37, 0, '190000'),\n",
       " Text(38, 0, '195000'),\n",
       " Text(39, 0, '200000')]"
      ]
     },
     "execution_count": 7,
     "metadata": {},
     "output_type": "execute_result"
    }
   ],
   "source": [
    "sn.set(rc={'figure.figsize':(11.7,8.27)})\n",
    "g = sn.barplot(x='income',y='count',data=df)\n",
    "g.set_xticklabels(g.get_xticklabels(), \n",
    "                          rotation=45, \n",
    "                          horizontalalignment='right')"
   ]
  },
  {
   "cell_type": "code",
   "execution_count": null,
   "id": "4db3872b",
   "metadata": {},
   "outputs": [],
   "source": []
  }
 ],
 "metadata": {
  "kernelspec": {
   "display_name": "Python 3 (ipykernel)",
   "language": "python",
   "name": "python3"
  },
  "language_info": {
   "codemirror_mode": {
    "name": "ipython",
    "version": 3
   },
   "file_extension": ".py",
   "mimetype": "text/x-python",
   "name": "python",
   "nbconvert_exporter": "python",
   "pygments_lexer": "ipython3",
   "version": "3.7.7"
  }
 },
 "nbformat": 4,
 "nbformat_minor": 5
}
